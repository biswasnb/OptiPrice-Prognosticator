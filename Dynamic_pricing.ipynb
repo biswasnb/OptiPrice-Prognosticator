{
  "nbformat": 4,
  "nbformat_minor": 0,
  "metadata": {
    "colab": {
      "provenance": []
    },
    "kernelspec": {
      "name": "python3",
      "display_name": "Python 3"
    },
    "language_info": {
      "name": "python"
    }
  },
  "cells": [
    {
      "cell_type": "code",
      "source": [
        "# INSTALL LIBRARIES\n",
        "!pip install gradio xgboost --quiet"
      ],
      "metadata": {
        "id": "kXDDhBvBMgAD"
      },
      "execution_count": null,
      "outputs": []
    },
    {
      "cell_type": "code",
      "source": [
        "# IMPORT LIBRARIES\n",
        "import pandas as pd\n",
        "import numpy as np\n",
        "import seaborn as sns\n",
        "import matplotlib.pyplot as plt\n",
        "import gradio as gr\n",
        "\n",
        "from sklearn.model_selection import train_test_split\n",
        "from sklearn.preprocessing import OneHotEncoder, StandardScaler\n",
        "from sklearn.metrics import mean_absolute_error, mean_squared_error, r2_score\n",
        "import xgboost as xgb\n",
        "\n",
        "# LOAD DATA\n",
        "df = pd.read_csv(\"dynamic_pricing.csv\")\n",
        "\n",
        "# CLEANING AND FEATURE ENGINEERING\n",
        "df.dropna(inplace=True)\n",
        "df = df[df['Number_of_Drivers'] > 0]\n",
        "\n",
        "df['demand_supply_ratio'] = df['Number_of_Riders'] / df['Number_of_Drivers']\n",
        "df['is_peak'] = df['Time_of_Booking'].apply(lambda x: 1 if x in ['Morning', 'Evening'] else 0)\n",
        "\n",
        "# Estimate Base Fare from Historical Cost Pattern\n",
        "base_fare_model = np.polyfit(df['Expected_Ride_Duration'], df['Historical_Cost_of_Ride'], 1)\n",
        "slope, intercept = base_fare_model\n",
        "df['base_fare'] = df['Expected_Ride_Duration'] * slope + intercept\n",
        "\n",
        "# Surge Multiplier\n",
        "def surge(row):\n",
        "    multiplier = 1.0\n",
        "    if row['demand_supply_ratio'] > 1.2:\n",
        "        multiplier += 0.15\n",
        "    if row['is_peak'] == 1:\n",
        "        multiplier += 0.10\n",
        "    if row['Vehicle_Type'] == 'Luxury':\n",
        "        multiplier += 0.25\n",
        "    elif row['Vehicle_Type'] == 'Premium':\n",
        "        multiplier += 0.15\n",
        "    return multiplier\n",
        "\n",
        "df['surge_multiplier'] = df.apply(surge, axis=1)\n",
        "df['Dynamic_Fare'] = df['base_fare'] * df['surge_multiplier']\n",
        "\n",
        "# Encode Categorical Features\n",
        "categorical = ['Location_Category', 'Customer_Loyalty_Status', 'Time_of_Booking', 'Vehicle_Type']\n",
        "ohe = OneHotEncoder(drop='first', sparse_output=False)\n",
        "encoded = ohe.fit_transform(df[categorical])\n",
        "encoded_df = pd.DataFrame(encoded, columns=ohe.get_feature_names_out())\n",
        "\n",
        "# Numerical Features\n",
        "X_numeric = df[['Number_of_Riders', 'Number_of_Drivers', 'Number_of_Past_Rides',\n",
        "                'Average_Ratings', 'Expected_Ride_Duration', 'demand_supply_ratio', 'is_peak']]\n",
        "X = pd.concat([X_numeric.reset_index(drop=True), encoded_df.reset_index(drop=True)], axis=1)\n",
        "y = df['Dynamic_Fare']\n",
        "\n",
        "# Train-Test Split & Scale\n",
        "X_train, X_test, y_train, y_test = train_test_split(X, y, test_size=0.2, random_state=42)\n",
        "scaler = StandardScaler()\n",
        "X_train[X_numeric.columns] = scaler.fit_transform(X_train[X_numeric.columns])\n",
        "X_test[X_numeric.columns] = scaler.transform(X_test[X_numeric.columns])\n",
        "\n",
        "# Model Training\n",
        "model = xgb.XGBRegressor(n_estimators=200, learning_rate=0.1, max_depth=5, random_state=42)\n",
        "model.fit(X_train, y_train)\n",
        "\n",
        "# Evaluation\n",
        "y_pred = model.predict(X_test)\n",
        "mae = mean_absolute_error(y_test, y_pred)\n",
        "rmse = np.sqrt(mean_squared_error(y_test, y_pred))\n",
        "r2 = r2_score(y_test, y_pred)\n",
        "\n",
        "# Compare to base fare\n",
        "y_base = X_test['Expected_Ride_Duration'] * slope + intercept\n",
        "rmse_base = np.sqrt(mean_squared_error(y_test, y_base))\n",
        "improvement = 100 * (rmse_base - rmse) / rmse_base\n",
        "\n",
        "print(f\"MAE: {mae:.2f}, RMSE: {rmse:.2f}, R²: {r2:.2f}\")\n",
        "print(f\"Base Fare RMSE: {rmse_base:.2f}, Improvement: {improvement:.2f}%\")\n",
        "\n",
        "# Gradio Prediction Function\n",
        "\n",
        "def predict_fare(Number_of_Riders, Number_of_Drivers, Location_Category, Customer_Loyalty_Status,\n",
        "                 Number_of_Past_Rides, Average_Ratings, Time_of_Booking, Vehicle_Type, Expected_Ride_Duration):\n",
        "\n",
        "    demand_supply_ratio = Number_of_Riders / Number_of_Drivers if Number_of_Drivers > 0 else 0\n",
        "    is_peak = 1 if Time_of_Booking in ['Morning', 'Evening'] else 0\n",
        "\n",
        "    input_dict = {\n",
        "        'Number_of_Riders': Number_of_Riders,\n",
        "        'Number_of_Drivers': Number_of_Drivers,\n",
        "        'Number_of_Past_Rides': Number_of_Past_Rides,\n",
        "        'Average_Ratings': Average_Ratings,\n",
        "        'Expected_Ride_Duration': Expected_Ride_Duration,\n",
        "        'demand_supply_ratio': demand_supply_ratio,\n",
        "        'is_peak': is_peak\n",
        "    }\n",
        "\n",
        "    for col in ohe.get_feature_names_out():\n",
        "        input_dict[col] = 0\n",
        "\n",
        "    selected = {\n",
        "        f'Location_Category_{Location_Category}',\n",
        "        f'Customer_Loyalty_Status_{Customer_Loyalty_Status}',\n",
        "        f'Time_of_Booking_{Time_of_Booking}',\n",
        "        f'Vehicle_Type_{Vehicle_Type}'\n",
        "    }\n",
        "\n",
        "    for feature in selected:\n",
        "        if feature in input_dict:\n",
        "            input_dict[feature] = 1\n",
        "\n",
        "    input_df = pd.DataFrame([input_dict])\n",
        "    input_df[X_numeric.columns] = scaler.transform(input_df[X_numeric.columns])\n",
        "    prediction = model.predict(input_df)[0]\n",
        "    return round(prediction, 2)"
      ],
      "metadata": {
        "colab": {
          "base_uri": "https://localhost:8080/"
        },
        "id": "tOy9dpOl7V9Q",
        "outputId": "de00e99b-75cd-4eab-dd59-d51a8d688a8d"
      },
      "execution_count": 1,
      "outputs": [
        {
          "output_type": "stream",
          "name": "stdout",
          "text": [
            "MAE: 5.16, RMSE: 9.92, R²: 1.00\n",
            "Base Fare RMSE: 515.61, Improvement: 98.08%\n"
          ]
        }
      ]
    },
    {
      "cell_type": "code",
      "source": [
        "# Gradio Interface\n",
        "import gradio as gr\n",
        "import pandas as pd\n",
        "\n",
        "def predict_fare(Number_of_Riders, Number_of_Drivers , Location_Category, Customer_Loyalty_Status,\n",
        "                 Number_of_Past_Rides, Average_Ratings, Time_of_Booking, Vehicle_Type, Expected_Ride_Duration):\n",
        "\n",
        "    demand_supply_ratio = Number_of_Riders / Number_of_Drivers if Number_of_Drivers > 0 else 0\n",
        "    is_peak = 1 if Time_of_Booking in ['Morning', 'Evening'] else 0\n",
        "\n",
        "    input_dict = {\n",
        "        'Number_of_Riders': Number_of_Riders,\n",
        "        'Number_of_Drivers': Number_of_Drivers,\n",
        "        'Number_of_Past_Rides': Number_of_Past_Rides,\n",
        "        'Average_Ratings': Average_Ratings,\n",
        "        'Expected_Ride_Duration': Expected_Ride_Duration,\n",
        "        'demand_supply_ratio': demand_supply_ratio,\n",
        "        'is_peak': is_peak\n",
        "    }\n",
        "\n",
        "    for col in ohe.get_feature_names_out():\n",
        "        input_dict[col] = 0\n",
        "\n",
        "    selected = {\n",
        "        f'Location_Category_{Location_Category}',\n",
        "        f'Customer_Loyalty_Status_{Customer_Loyalty_Status}',\n",
        "        f'Time_of_Booking_{Time_of_Booking}',\n",
        "        f'Vehicle_Type_{Vehicle_Type}'\n",
        "    }\n",
        "\n",
        "    for feature in selected:\n",
        "        if feature in input_dict:\n",
        "            input_dict[feature] = 1\n",
        "\n",
        "    input_df = pd.DataFrame([input_dict])\n",
        "    input_df[X_numeric.columns] = scaler.transform(input_df[X_numeric.columns])\n",
        "    prediction = model.predict(input_df)[0]\n",
        "    return round(prediction, 2)\n",
        "\n",
        "\n",
        "with gr.Blocks(theme=gr.themes.Soft()) as interface:\n",
        "    gr.Markdown(\n",
        "        \"\"\"\n",
        "        <div style=\"background-color:#f4f9ff; padding: 10px; border-radius: 12px; text-align: center; box-shadow: 0 4px 12px rgba(0,0,0,0.08);\">\n",
        "            <h2 style=\"color:#1A5276; margin-bottom: 10px;\">🚖 Real-Time Dynamic Ride Fare Predictor</h2>\n",
        "            <p style=\"color:#1A5276; font-size: 16px;\">\n",
        "                Enter ride details below to get a predicted fare based on demand-supply, loyalty, and ride context.\n",
        "            </p>\n",
        "        </div>\n",
        "        \"\"\"\n",
        "    )\n",
        "\n",
        "    with gr.Row():\n",
        "        with gr.Column():\n",
        "            num_riders = gr.Number(label=\"Number of Riders\")\n",
        "            num_drivers = gr.Number(label=\"Number of Drivers\")\n",
        "            location = gr.Dropdown(['Urban', 'Suburban', 'Rural'], label=\"Location Category\")\n",
        "            loyalty = gr.Dropdown(['Silver', 'Regular', 'Gold'], label=\"Customer Loyalty Status\")\n",
        "        with gr.Column():\n",
        "            past_rides = gr.Number(label=\"Number of Past Rides\")\n",
        "            rating = gr.Slider(1.0, 5.0, step=0.1, label=\"Average Ratings\")\n",
        "            booking_time = gr.Dropdown(['Morning', 'Afternoon', 'Evening', 'Night'], label=\"Time of Booking\")\n",
        "            vehicle = gr.Dropdown(['Economy', 'Premium', 'Luxury'], label=\"Vehicle Type\")\n",
        "            duration = gr.Number(label=\"Expected Ride Duration (minutes)\")\n",
        "\n",
        "    fare_output = gr.Number(label=\"Predicted Dynamic Fare (₹)\", interactive=False)\n",
        "\n",
        "    with gr.Row():\n",
        "        predict_btn = gr.Button(\"💰 Predict Fare\", variant=\"primary\")\n",
        "        clear_btn = gr.Button(\"🧹 Clear\", variant=\"secondary\")\n",
        "\n",
        "    predict_btn.click(\n",
        "        fn=predict_fare,\n",
        "        inputs=[num_riders, num_drivers, location, loyalty, past_rides, rating, booking_time, vehicle, duration],\n",
        "        outputs=fare_output\n",
        "    )\n",
        "\n",
        "    clear_btn.click(\n",
        "        lambda: [None]*9 + [0.0],\n",
        "        inputs=[],\n",
        "        outputs=[num_riders, num_drivers, location, loyalty, past_rides, rating, booking_time, vehicle, duration, fare_output]\n",
        "    )\n",
        "\n",
        "interface.launch(share=True)\n"
      ],
      "metadata": {
        "colab": {
          "base_uri": "https://localhost:8080/",
          "height": 611
        },
        "id": "wjWOmmq1Nv4L",
        "outputId": "f1760003-b4be-4d42-d4ec-26ce06e67a01"
      },
      "execution_count": 3,
      "outputs": [
        {
          "output_type": "stream",
          "name": "stdout",
          "text": [
            "Colab notebook detected. To show errors in colab notebook, set debug=True in launch()\n",
            "* Running on public URL: https://5bdf5705fbd30ed988.gradio.live\n",
            "\n",
            "This share link expires in 1 week. For free permanent hosting and GPU upgrades, run `gradio deploy` from the terminal in the working directory to deploy to Hugging Face Spaces (https://huggingface.co/spaces)\n"
          ]
        },
        {
          "output_type": "display_data",
          "data": {
            "text/plain": [
              "<IPython.core.display.HTML object>"
            ],
            "text/html": [
              "<div><iframe src=\"https://5bdf5705fbd30ed988.gradio.live\" width=\"100%\" height=\"500\" allow=\"autoplay; camera; microphone; clipboard-read; clipboard-write;\" frameborder=\"0\" allowfullscreen></iframe></div>"
            ]
          },
          "metadata": {}
        },
        {
          "output_type": "execute_result",
          "data": {
            "text/plain": []
          },
          "metadata": {},
          "execution_count": 3
        }
      ]
    },
    {
      "cell_type": "code",
      "source": [],
      "metadata": {
        "id": "0isQtQVK7sCw"
      },
      "execution_count": null,
      "outputs": []
    }
  ]
}